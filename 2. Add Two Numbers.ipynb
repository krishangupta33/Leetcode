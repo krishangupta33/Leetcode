{
 "cells": [
  {
   "cell_type": "code",
   "execution_count": 14,
   "metadata": {},
   "outputs": [],
   "source": [
    "class Solution:\n",
    "    def addTwoNumbers(self, l1, l2):\n",
    "        #getting first number from l1\n",
    "        num1 = \"\"\n",
    "        while l1:\n",
    "            num1 += str(l1.val)\n",
    "            l1 = l1.next\n",
    "\n",
    "        #getting second number from l2\n",
    "        num2 = \"\"\n",
    "        while l2:\n",
    "            num2 += str(l2.val)\n",
    "            l2 = l2.next\n",
    "\n",
    "        #reverse the numbers\n",
    "        num1 = num1[::-1]\n",
    "        num2 = num2[::-1]\n",
    "\n",
    "        #add the numbers\n",
    "        num3 = int(num1) + int(num2)\n",
    "\n",
    "        #reverse the result\n",
    "        num3 = str(num3)[::-1]\n",
    "\n",
    "        #create a linked list\n",
    "        head = ListNode(num3[0])\n",
    "        temp = head\n",
    "        for i in range(1, len(num3)):\n",
    "            temp.next = ListNode(num3[i])\n",
    "            temp = temp.next\n",
    "        \n",
    "        return head\n",
    "        "
   ]
  },
  {
   "cell_type": "code",
   "execution_count": 10,
   "metadata": {},
   "outputs": [
    {
     "name": "stdout",
     "output_type": "stream",
     "text": [
      "[8, 9, 9, 9, 0, 0, 0, 1]\n"
     ]
    }
   ],
   "source": [
    "#adding two numbers using lists\n",
    "\n",
    "def addTwoNumbers(l1, l2):\n",
    "        l1.reverse()\n",
    "        l2.reverse()\n",
    "        l1 = int(''.join(map(str, l1)))\n",
    "        l2 = int(''.join(map(str, l2)))\n",
    "        l3 = l1 + l2\n",
    "        l3 = str(l3)\n",
    "        l3 = l3[::-1]  \n",
    "        return list(map(int, l3))\n",
    "\n",
    "\n",
    "a=[9,9,9,9,9,9,9]\n",
    "b=[9,9,9,9]\n",
    "\n",
    "\n",
    "c_list=list(map(int,str(c)))\n",
    "print(addTwoNumbers(a,b))\n",
    "\n"
   ]
  },
  {
   "cell_type": "code",
   "execution_count": null,
   "metadata": {},
   "outputs": [],
   "source": [
    "#About Python LISTNODE\n",
    "\n",
    "class ListNode:\n",
    "    def __init__(self, val=0, next=None):\n",
    "        self.val = val\n",
    "        self.next = next"
   ]
  }
 ],
 "metadata": {
  "kernelspec": {
   "display_name": "Python 3",
   "language": "python",
   "name": "python3"
  },
  "language_info": {
   "codemirror_mode": {
    "name": "ipython",
    "version": 3
   },
   "file_extension": ".py",
   "mimetype": "text/x-python",
   "name": "python",
   "nbconvert_exporter": "python",
   "pygments_lexer": "ipython3",
   "version": "3.11.5"
  },
  "orig_nbformat": 4
 },
 "nbformat": 4,
 "nbformat_minor": 2
}
