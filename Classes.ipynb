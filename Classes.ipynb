{
 "cells": [
  {
   "cell_type": "code",
   "execution_count": 80,
   "metadata": {},
   "outputs": [],
   "source": [
    "class person():\n",
    "\n",
    "    class_variable = 333\n",
    "    num_of_people = 0\n",
    "    def __init__(ola, name, age, salary):   #mostly we use self instead of ola, to represent that it can be chnaged I used ola here\n",
    "        ola.name = name\n",
    "        ola.age = age\n",
    "        ola.salary = salary\n",
    "        person.num_of_people += 1\n",
    "\n",
    "    def introduce(ola):\n",
    "        print(\"Hello, my name is \", ola.name,\" and I am \", ola.age,\" years old\")\n",
    "\n",
    "    def increase_salary(ola, amount):\n",
    "        ola.salary += amount\n",
    "        print(\"{} salary is now {}\".format(ola.name, ola.salary))\n",
    "\n",
    "    def print_class_variable(ola):\n",
    "        print(ola.class_variable)\n",
    "    \n",
    "\n",
    "\n"
   ]
  },
  {
   "cell_type": "code",
   "execution_count": 81,
   "metadata": {},
   "outputs": [],
   "source": [
    "krishan=person(\"Krishan\", 26, 90000)\n",
    "test=person(\"Test\", 25, 100000)"
   ]
  },
  {
   "cell_type": "code",
   "execution_count": 82,
   "metadata": {},
   "outputs": [],
   "source": [
    "krishan.name=\"Krishan Gupta\""
   ]
  },
  {
   "cell_type": "code",
   "execution_count": 83,
   "metadata": {},
   "outputs": [
    {
     "name": "stdout",
     "output_type": "stream",
     "text": [
      "Hello, my name is  Krishan Gupta  and I am  26  years old\n"
     ]
    }
   ],
   "source": [
    "krishan.introduce()"
   ]
  },
  {
   "cell_type": "code",
   "execution_count": 84,
   "metadata": {},
   "outputs": [
    {
     "data": {
      "text/plain": [
       "90000"
      ]
     },
     "execution_count": 84,
     "metadata": {},
     "output_type": "execute_result"
    }
   ],
   "source": [
    "krishan.salary"
   ]
  },
  {
   "cell_type": "code",
   "execution_count": 85,
   "metadata": {},
   "outputs": [
    {
     "name": "stdout",
     "output_type": "stream",
     "text": [
      "Krishan Gupta salary is now 115000\n"
     ]
    }
   ],
   "source": [
    "krishan.increase_salary(25000)"
   ]
  },
  {
   "cell_type": "code",
   "execution_count": 86,
   "metadata": {},
   "outputs": [
    {
     "name": "stdout",
     "output_type": "stream",
     "text": [
      "{'name': 'Krishan Gupta', 'age': 26, 'salary': 115000}\n"
     ]
    }
   ],
   "source": [
    "print(krishan.__dict__)"
   ]
  },
  {
   "cell_type": "code",
   "execution_count": 87,
   "metadata": {},
   "outputs": [
    {
     "name": "stdout",
     "output_type": "stream",
     "text": [
      "333\n",
      "333\n",
      "333\n"
     ]
    }
   ],
   "source": [
    "print(person.class_variable)\n",
    "print(krishan.class_variable)\n",
    "print(test.class_variable)"
   ]
  },
  {
   "cell_type": "code",
   "execution_count": 88,
   "metadata": {},
   "outputs": [
    {
     "name": "stdout",
     "output_type": "stream",
     "text": [
      "{'__module__': '__main__', 'class_variable': 333, 'num_of_people': 2, '__init__': <function person.__init__ at 0x10527df80>, 'introduce': <function person.introduce at 0x10527de40>, 'increase_salary': <function person.increase_salary at 0x10527e160>, 'print_class_variable': <function person.print_class_variable at 0x10527d760>, '__dict__': <attribute '__dict__' of 'person' objects>, '__weakref__': <attribute '__weakref__' of 'person' objects>, '__doc__': None}\n"
     ]
    }
   ],
   "source": [
    "print(person.__dict__)"
   ]
  },
  {
   "cell_type": "code",
   "execution_count": 89,
   "metadata": {},
   "outputs": [
    {
     "name": "stdout",
     "output_type": "stream",
     "text": [
      "333\n",
      "444\n",
      "333\n"
     ]
    }
   ],
   "source": [
    "krishan.class_variable=444\n",
    "\n",
    "print(person.class_variable)\n",
    "print(krishan.class_variable)\n",
    "print(test.class_variable)"
   ]
  },
  {
   "cell_type": "code",
   "execution_count": 91,
   "metadata": {},
   "outputs": [
    {
     "name": "stdout",
     "output_type": "stream",
     "text": [
      "2\n"
     ]
    }
   ],
   "source": [
    "print(person.num_of_people)"
   ]
  },
  {
   "cell_type": "code",
   "execution_count": null,
   "metadata": {},
   "outputs": [],
   "source": []
  }
 ],
 "metadata": {
  "kernelspec": {
   "display_name": "Python 3",
   "language": "python",
   "name": "python3"
  },
  "language_info": {
   "codemirror_mode": {
    "name": "ipython",
    "version": 3
   },
   "file_extension": ".py",
   "mimetype": "text/x-python",
   "name": "python",
   "nbconvert_exporter": "python",
   "pygments_lexer": "ipython3",
   "version": "3.11.5"
  },
  "orig_nbformat": 4
 },
 "nbformat": 4,
 "nbformat_minor": 2
}
