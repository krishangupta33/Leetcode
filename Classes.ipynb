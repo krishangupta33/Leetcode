{
 "cells": [
  {
   "cell_type": "code",
   "execution_count": 52,
   "metadata": {},
   "outputs": [],
   "source": [
    "class person():\n",
    "    def __init__(ola, name, age, salary):   #mostly we use self instead of ola, to represent that it can be chnaged I used ola here\n",
    "        ola.name = name\n",
    "        ola.age = age\n",
    "        ola.salary = salary\n",
    "\n",
    "    def introduce(ola):\n",
    "        print(\"Hello, my name is \", ola.name,\" and I am \", ola.age,\" years old\")\n",
    "\n",
    "    def increase_salary(ola, amount):\n",
    "        ola.salary += amount\n",
    "        print(\"{} salary is now {}\".format(ola.name, ola.salary))\n",
    "    \n",
    "\n",
    "\n"
   ]
  },
  {
   "cell_type": "code",
   "execution_count": 53,
   "metadata": {},
   "outputs": [],
   "source": [
    "krishan=person(\"Krishan\", 26, 90000)"
   ]
  },
  {
   "cell_type": "code",
   "execution_count": 54,
   "metadata": {},
   "outputs": [],
   "source": [
    "krishan.name=\"Krishan Gupta\""
   ]
  },
  {
   "cell_type": "code",
   "execution_count": 55,
   "metadata": {},
   "outputs": [
    {
     "name": "stdout",
     "output_type": "stream",
     "text": [
      "Hello, my name is  Krishan Gupta  and I am  26  years old\n"
     ]
    }
   ],
   "source": [
    "krishan.introduce()"
   ]
  },
  {
   "cell_type": "code",
   "execution_count": 56,
   "metadata": {},
   "outputs": [
    {
     "data": {
      "text/plain": [
       "90000"
      ]
     },
     "execution_count": 56,
     "metadata": {},
     "output_type": "execute_result"
    }
   ],
   "source": [
    "krishan.salary"
   ]
  },
  {
   "cell_type": "code",
   "execution_count": 57,
   "metadata": {},
   "outputs": [
    {
     "name": "stdout",
     "output_type": "stream",
     "text": [
      "Krishan Gupta salary is now 115000\n"
     ]
    }
   ],
   "source": [
    "krishan.increase_salary(25000)"
   ]
  },
  {
   "cell_type": "code",
   "execution_count": null,
   "metadata": {},
   "outputs": [],
   "source": []
  }
 ],
 "metadata": {
  "kernelspec": {
   "display_name": "Python 3",
   "language": "python",
   "name": "python3"
  },
  "language_info": {
   "codemirror_mode": {
    "name": "ipython",
    "version": 3
   },
   "file_extension": ".py",
   "mimetype": "text/x-python",
   "name": "python",
   "nbconvert_exporter": "python",
   "pygments_lexer": "ipython3",
   "version": "3.11.5"
  },
  "orig_nbformat": 4
 },
 "nbformat": 4,
 "nbformat_minor": 2
}
